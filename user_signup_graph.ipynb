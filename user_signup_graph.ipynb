{
 "metadata": {
  "language_info": {
   "codemirror_mode": {
    "name": "ipython",
    "version": 3
   },
   "file_extension": ".py",
   "mimetype": "text/x-python",
   "name": "python",
   "nbconvert_exporter": "python",
   "pygments_lexer": "ipython3",
   "version": "3.8.3-final"
  },
  "orig_nbformat": 2,
  "kernelspec": {
   "name": "python3",
   "display_name": "Python 3"
  }
 },
 "nbformat": 4,
 "nbformat_minor": 2,
 "cells": [
  {
   "cell_type": "code",
   "execution_count": 1,
   "metadata": {},
   "outputs": [],
   "source": [
    "# Needed if you're not running the server already, or in Jupyter notebook\n",
    "import python_function_initializer\n",
    "\n",
    "from django.contrib.auth.models import User\n",
    "from analysis.models import WorkoutEntry\n",
    "from datetime import datetime, timedelta\n",
    "import pytz\n",
    "import time\n",
    "import pandas as pd\n",
    "\n",
    "import matplotlib.pyplot as plt\n",
    "\n",
    "pd.set_option('display.max_rows', 500)\n",
    "pd.set_option('display.max_columns', 500)\n",
    "pd.set_option('display.width', 1000)"
   ]
  },
  {
   "cell_type": "code",
   "execution_count": 2,
   "metadata": {},
   "outputs": [
    {
     "output_type": "stream",
     "name": "stdout",
     "text": [
      "<QuerySet [<User: admin>, <User: client>, <User: tayo_a3>, <User: trainer>, <User: scraigwright>, <User: Chabian47>, <User: dylanlai>, <User: Jerromen>, <User: swfitness>, <User: ArranH92>, <User: shayaankahn>, <User: Maximiliankilman>, <User: VladiLazarov>, <User: sangeetha>, <User: akhu1>, <User: ptes1>, <User: ahan1>, <User: TrainWithJero>, <User: emmafairhead>, <User: hsum1>, '...(remaining elements truncated)...']>\n"
     ]
    }
   ],
   "source": [
    "print(User.objects.all())"
   ]
  },
  {
   "cell_type": "code",
   "execution_count": null,
   "metadata": {},
   "outputs": [],
   "source": [
    "start_date = "
   ]
  }
 ]
}